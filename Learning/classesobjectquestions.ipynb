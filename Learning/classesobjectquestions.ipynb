{
 "cells": [
  {
   "cell_type": "markdown",
   "metadata": {},
   "source": [
    "# Module: Classes and Objects Assignments\n",
    "## Lesson: Creating and Working with Classes and Objects\n",
    "### Assignment 1: Basic Class and Object Creation\n",
    "\n",
    "Create a class named `Car` with attributes `make`, `model`, and `year`. Create an object of the class and print its attributes.\n",
    "\n",
    "### Assignment 2: Methods in Class\n",
    "\n",
    "Add a method named `start_engine` to the `Car` class that prints a message when the engine starts. Create an object of the class and call the method.\n",
    "\n",
    "### Assignment 3: Class with Constructor\n",
    "\n",
    "Create a class named `Student` with attributes `name` and `age`. Use a constructor to initialize these attributes. Create an object of the class and print its attributes.\n",
    "\n",
    "### Assignment 4: Class with Private Attributes\n",
    "\n",
    "Create a class named `BankAccount` with private attributes `account_number` and `balance`. Add methods to deposit and withdraw money, and to check the balance. Create an object of the class and perform some operations.\n",
    "\n",
    "### Assignment 5: Class Inheritance\n",
    "\n",
    "Create a base class named `Person` with attributes `name` and `age`. Create a derived class named `Employee` that inherits from `Person` and adds an attribute `employee_id`. Create an object of the derived class and print its attributes.\n",
    "\n",
    "### Assignment 6: Method Overriding\n",
    "\n",
    "In the `Employee` class, override the `__str__` method to return a string representation of the object. Create an object of the class and print it.\n",
    "\n",
    "### Assignment 7: Class Composition\n",
    "\n",
    "Create a class named `Address` with attributes `street`, `city`, and `zipcode`. Create a class named `Person` that has an `Address` object as an attribute. Create an object of the `Person` class and print its address.\n",
    "\n",
    "### Assignment 8: Class with Class Variables\n",
    "\n",
    "Create a class named `Counter` with a class variable `count`. Each time an object is created, increment the count. Add a method to get the current count. Create multiple objects and print the count.\n",
    "\n",
    "### Assignment 9: Static Methods\n",
    "\n",
    "Create a class named `MathOperations` with a static method to calculate the square root of a number. Call the static method without creating an object.\n",
    "\n",
    "### Assignment 10: Class with Properties\n",
    "\n",
    "Create a class named `Rectangle` with private attributes `length` and `width`. Use properties to get and set these attributes. Create an object of the class and test the properties.\n",
    "\n",
    "### Assignment 11: Abstract Base Class\n",
    "\n",
    "Create an abstract base class named `Shape` with an abstract method `area`. Create derived classes `Circle` and `Square` that implement the `area` method. Create objects of the derived classes and call the `area` method.\n",
    "\n",
    "### Assignment 12: Operator Overloading\n",
    "\n",
    "Create a class named `Vector` with attributes `x` and `y`. Overload the `+` operator to add two `Vector` objects. Create objects of the class and test the operator overloading.\n",
    "\n",
    "### Assignment 13: Class with Custom Exception\n",
    "\n",
    "Create a custom exception named `InsufficientBalanceError`. In the `BankAccount` class, raise this exception when a withdrawal amount is greater than the balance. Handle the exception and print an appropriate message.\n",
    "\n",
    "### Assignment 14: Class with Context Manager\n",
    "\n",
    "Create a class named `FileManager` that implements the context manager protocol to open and close a file. Use this class to read the contents of a file.\n",
    "\n",
    "### Assignment 15: Chaining Methods\n",
    "\n",
    "Create a class named `Calculator` with methods to add, subtract, multiply, and divide. Each method should return the object itself to allow method chaining. Create an object and chain multiple method calls."
   ]
  },
  {
   "cell_type": "code",
   "execution_count": null,
   "id": "ac35190f",
   "metadata": {},
   "outputs": [
    {
     "name": "stdout",
     "output_type": "stream",
     "text": [
      "Engine has started!\n"
     ]
    }
   ],
   "source": [
    "## Assingment 1 Create a class named `Car` with attributes `make`, `model`, and `year`. Create an object of the class and print its attributes.\n",
    "\n",
    "class Car:\n",
    "    def __init__(self, maker, model, year):\n",
    "        self.maker = maker\n",
    "        self.model = model\n",
    "        self.year = year\n",
    "    def start_engine(self): ## Assingment 2\n",
    "        print(\"Engine has started!\")\n",
    "\n",
    "car1 = Car(\"BMW\", \"X1\", 2012)\n",
    "\n",
    "car1.start_engine() ## Assignment 2"
   ]
  },
  {
   "cell_type": "code",
   "execution_count": null,
   "id": "982d0f8c",
   "metadata": {},
   "outputs": [
    {
     "name": "stdout",
     "output_type": "stream",
     "text": [
      "Bernardo\n",
      "21\n"
     ]
    }
   ],
   "source": [
    "## Assingment 3\n",
    "class Student:\n",
    "    def __init__(self, name, age):\n",
    "        self.name = name\n",
    "        self.age = age\n",
    "    \n",
    "    def info(self):\n",
    "        print(self.name)\n",
    "        print(self.age)\n",
    "\n",
    "\n",
    "\n",
    "student1 = Student('Bernardo', 21)\n",
    "\n",
    "student1.info()\n",
    "\n",
    "\n"
   ]
  },
  {
   "cell_type": "code",
   "execution_count": null,
   "id": "1de61c15",
   "metadata": {},
   "outputs": [
    {
     "name": "stdout",
     "output_type": "stream",
     "text": [
      "5450\n"
     ]
    },
    {
     "data": {
      "text/plain": [
       "4850"
      ]
     },
     "execution_count": 20,
     "metadata": {},
     "output_type": "execute_result"
    }
   ],
   "source": [
    "## Create a class named `BankAccount` with private attributes `account_number` and `balance`. \n",
    "# Add methods to deposit and withdraw money, and to check the balance. \n",
    "# Create an object of the class and perform some operations\n",
    "\n",
    "class BankAccount:\n",
    "    def __init__(self, account_number, balance=0):\n",
    "        self.__account_number = account_number\n",
    "        self.__balance = balance\n",
    "    \n",
    "    def deposit(self, amount):\n",
    "        self.__balance += amount\n",
    "\n",
    "    def withdraw(self, amount):\n",
    "        if amount > self.__balance:\n",
    "            print(f\"Withdraw is not possible. Amount exceeds balance. Current balannce: {self.__balance}\")\n",
    "        else:\n",
    "            self.__balance -= amount    \n",
    "    \n",
    "    def info_balance(self):\n",
    "        return self.__balance\n",
    "    \n",
    "\n",
    "account1 = BankAccount(8179, 5000)\n",
    "\n",
    "account1.deposit(450)           \n",
    "        \n",
    "print(account1.info_balance()) \n",
    "\n",
    "account1.withdraw(600)\n",
    "\n",
    "account1.info_balance()        "
   ]
  },
  {
   "cell_type": "code",
   "execution_count": 1,
   "id": "45e65814",
   "metadata": {},
   "outputs": [
    {
     "name": "stdout",
     "output_type": "stream",
     "text": [
      "Name: Bernardo\n",
      "Age: 21\n",
      "Employee ID: 6938\n",
      "\n"
     ]
    }
   ],
   "source": [
    "## Create a base class named `Person` with attributes `name` and `age`. \n",
    "# Create a derived class named `Employee` that inherits from `Person` and adds an attribute `employee_id`. \n",
    "# Create an object of the derived class and print its attributes.\n",
    "\n",
    "class Person:\n",
    "    def __init__(self, name, age):\n",
    "        self.name = name\n",
    "        self.age = age\n",
    "\n",
    "class Employee(Person):\n",
    "    def __init__(self, name, age, employee_id):\n",
    "        super().__init__(name,age)\n",
    "        self.employee_id = employee_id\n",
    "    \n",
    "    def __str__(self):\n",
    "         return f\"Name: {self.name}\\nAge: {self.age}\\nEmployee ID: {self.employee_id}\\n\"\n",
    "\n",
    "\n",
    "person1 = Employee('Bernardo', 21, 6938)\n",
    "\n",
    "print(person1)\n",
    "\n"
   ]
  },
  {
   "cell_type": "code",
   "execution_count": 3,
   "id": "ba553f7c",
   "metadata": {},
   "outputs": [
    {
     "name": "stdout",
     "output_type": "stream",
     "text": [
      "The address of Bernardo is: Street: JB, City: Brasilia, Zipcode: 71680368\n"
     ]
    }
   ],
   "source": [
    "## Create a class named `Address` with attributes `street`, `city`, and `zipcode`. \n",
    "# Create a class named `Person` that has an `Address` object as an attribute. Create an object of the `Person` class and print its address.\n",
    "\n",
    "class Address:\n",
    "    def __init__(self, street, city, zipcode):\n",
    "        self.street = street\n",
    "        self.city = city\n",
    "        self.zipcode = zipcode\n",
    "    def __str__(self):\n",
    "        return f'Street: {self.street}, City: {self.city}, Zipcode: {self.zipcode}'\n",
    "\n",
    "class Person:\n",
    "    def __init__(self,name,age,address):\n",
    "        self.name = name\n",
    "        self.age = age\n",
    "        self.address = address\n",
    "\n",
    "\n",
    "address1 = Address('JB', 'Brasilia', '71680368')\n",
    "person1 = Person('Bernardo', 21, address1)        \n",
    "\n",
    "\n",
    "print(f'The address of {person1.name} is: {person1.address}')"
   ]
  },
  {
   "cell_type": "code",
   "execution_count": 4,
   "id": "c00678bc",
   "metadata": {},
   "outputs": [
    {
     "data": {
      "text/plain": [
       "3"
      ]
     },
     "execution_count": 4,
     "metadata": {},
     "output_type": "execute_result"
    }
   ],
   "source": [
    "# Create a class named `Counter` with a class variable `count`. \n",
    "# Each time an object is created, increment the count. Add a method to get the current count. Create multiple objects and print the count.\n",
    "\n",
    "class Counter:\n",
    "\n",
    "    count = 0\n",
    "\n",
    "    def __init__(self):\n",
    "        Counter.count += 1\n",
    "\n",
    "    def get_count(self):\n",
    "        return Counter.count;    \n",
    "\n",
    "\n",
    "c1 = Counter()\n",
    "c2 = Counter()\n",
    "c3 = Counter() \n",
    "\n",
    "c3.get_count()"
   ]
  },
  {
   "cell_type": "code",
   "execution_count": 14,
   "id": "4b58ab93",
   "metadata": {},
   "outputs": [
    {
     "data": {
      "text/plain": [
       "(2.7383934913210134e-16+4.47213595499958j)"
      ]
     },
     "execution_count": 14,
     "metadata": {},
     "output_type": "execute_result"
    }
   ],
   "source": [
    "# Create a class named `MathOperations` with a static method to calculate the square root of a number. \n",
    "# Call the static method without creating an object.\n",
    "\n",
    "class MathOperations:\n",
    "    def squareroot(number):\n",
    "        return number ** 0.5\n",
    "        \n",
    "\n",
    "MathOperations.squareroot(float(input()))        "
   ]
  },
  {
   "cell_type": "code",
   "execution_count": 4,
   "id": "1cfe7f36",
   "metadata": {},
   "outputs": [
    {
     "name": "stdout",
     "output_type": "stream",
     "text": [
      "Lenght: 10, Width: 5\n",
      "Lenght: 22, Width: 7\n"
     ]
    }
   ],
   "source": [
    "# Create a class named `Rectangle` with private attributes `length` and `width`. \n",
    "# Use properties to get and set these attributes. Create an object of the class and test the properties.\n",
    "\n",
    "class Rectangle:\n",
    "    def __init__(self, lenght, width):\n",
    "        self.__lenght = lenght\n",
    "        self.__width = width\n",
    "    def get_lenght(self):\n",
    "        return self.__lenght\n",
    "    \n",
    "    def set_lenght(self, lenght):\n",
    "        self.__lenght = lenght\n",
    "\n",
    "    def get_width(self):\n",
    "        return self.__width\n",
    "    \n",
    "    def set_width(self, width):\n",
    "        self.__width = width    \n",
    "\n",
    "    def __str__(self):\n",
    "        return f'Lenght: {self.__lenght}, Width: {self.__width}'    \n",
    "\n",
    "rec = Rectangle(10,5) \n",
    "print(rec)\n",
    "rec.set_lenght(22)\n",
    "rec.set_width(7)\n",
    "print(rec)\n"
   ]
  },
  {
   "cell_type": "code",
   "execution_count": 1,
   "id": "49c39b19",
   "metadata": {},
   "outputs": [
    {
     "name": "stdout",
     "output_type": "stream",
     "text": [
      "Requirement already satisfied: numpy in c:\\users\\desti\\anaconda3\\lib\\site-packages (1.26.4)\n"
     ]
    }
   ],
   "source": []
  }
 ],
 "metadata": {
  "kernelspec": {
   "display_name": "base",
   "language": "python",
   "name": "python3"
  },
  "language_info": {
   "codemirror_mode": {
    "name": "ipython",
    "version": 3
   },
   "file_extension": ".py",
   "mimetype": "text/x-python",
   "name": "python",
   "nbconvert_exporter": "python",
   "pygments_lexer": "ipython3",
   "version": "3.12.7"
  }
 },
 "nbformat": 4,
 "nbformat_minor": 5
}
